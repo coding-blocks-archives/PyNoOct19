{
 "cells": [
  {
   "cell_type": "code",
   "execution_count": null,
   "metadata": {},
   "outputs": [],
   "source": [
    "www.abc.com/search?key1=value1&key2=value2"
   ]
  },
  {
   "cell_type": "code",
   "execution_count": 5,
   "metadata": {},
   "outputs": [
    {
     "name": "stdout",
     "output_type": "stream",
     "text": [
      "a\n",
      "b\n"
     ]
    }
   ],
   "source": [
    "for x in d:\n",
    "    print(x)"
   ]
  },
  {
   "cell_type": "code",
   "execution_count": 9,
   "metadata": {},
   "outputs": [],
   "source": [
    "values = d.values()\n"
   ]
  },
  {
   "cell_type": "code",
   "execution_count": 11,
   "metadata": {},
   "outputs": [
    {
     "data": {
      "text/plain": [
       "'jatin,2,something'"
      ]
     },
     "execution_count": 11,
     "metadata": {},
     "output_type": "execute_result"
    }
   ],
   "source": [
    "\",\".join(values)"
   ]
  },
  {
   "cell_type": "code",
   "execution_count": 6,
   "metadata": {},
   "outputs": [
    {
     "ename": "TypeError",
     "evalue": "write() argument must be str, not dict",
     "output_type": "error",
     "traceback": [
      "\u001b[0;31m---------------------------------------------------------------------------\u001b[0m",
      "\u001b[0;31mTypeError\u001b[0m                                 Traceback (most recent call last)",
      "\u001b[0;32m<ipython-input-6-df08e3f0a060>\u001b[0m in \u001b[0;36m<module>\u001b[0;34m\u001b[0m\n\u001b[1;32m      1\u001b[0m \u001b[0;32mwith\u001b[0m \u001b[0mopen\u001b[0m\u001b[0;34m(\u001b[0m\u001b[0;34m\"sample.txt\"\u001b[0m\u001b[0;34m,\u001b[0m \u001b[0;34m'w'\u001b[0m\u001b[0;34m)\u001b[0m \u001b[0;32mas\u001b[0m \u001b[0mfile\u001b[0m\u001b[0;34m:\u001b[0m\u001b[0;34m\u001b[0m\u001b[0m\n\u001b[0;32m----> 2\u001b[0;31m     \u001b[0mfile\u001b[0m\u001b[0;34m.\u001b[0m\u001b[0mwrite\u001b[0m\u001b[0;34m(\u001b[0m\u001b[0md\u001b[0m\u001b[0;34m)\u001b[0m\u001b[0;34m\u001b[0m\u001b[0m\n\u001b[0m",
      "\u001b[0;31mTypeError\u001b[0m: write() argument must be str, not dict"
     ]
    }
   ],
   "source": [
    "with open(\"sample.csv\", 'w') as file:\n",
    "    values = d.values()\n",
    "    file.write(\",\".join(values) + \"\\n\")"
   ]
  },
  {
   "cell_type": "code",
   "execution_count": 3,
   "metadata": {},
   "outputs": [],
   "source": [
    "import requests"
   ]
  },
  {
   "cell_type": "code",
   "execution_count": 1,
   "metadata": {},
   "outputs": [],
   "source": [
    "query = 'iphone'"
   ]
  },
  {
   "cell_type": "code",
   "execution_count": 14,
   "metadata": {},
   "outputs": [],
   "source": [
    "url = \"https://www.snapdeal.com/search\""
   ]
  },
  {
   "cell_type": "code",
   "execution_count": 15,
   "metadata": {},
   "outputs": [],
   "source": [
    "params = {\n",
    "    \"keyword\": \"iphone\"\n",
    "}"
   ]
  },
  {
   "cell_type": "code",
   "execution_count": 16,
   "metadata": {},
   "outputs": [],
   "source": [
    "r = requests.get(url, params = params)"
   ]
  },
  {
   "cell_type": "code",
   "execution_count": 17,
   "metadata": {},
   "outputs": [
    {
     "data": {
      "text/plain": [
       "'https://www.snapdeal.com/search?keyword=iphone'"
      ]
     },
     "execution_count": 17,
     "metadata": {},
     "output_type": "execute_result"
    }
   ],
   "source": [
    "r.url"
   ]
  },
  {
   "cell_type": "code",
   "execution_count": 18,
   "metadata": {},
   "outputs": [],
   "source": [
    "from bs4 import BeautifulSoup"
   ]
  },
  {
   "cell_type": "code",
   "execution_count": 19,
   "metadata": {},
   "outputs": [],
   "source": [
    "soup = BeautifulSoup(r.content)"
   ]
  },
  {
   "cell_type": "code",
   "execution_count": 20,
   "metadata": {},
   "outputs": [],
   "source": [
    "products = soup.findAll('div', attrs = {\"class\": \"product-tuple-listing\"})"
   ]
  },
  {
   "cell_type": "code",
   "execution_count": 21,
   "metadata": {},
   "outputs": [
    {
     "data": {
      "text/plain": [
       "20"
      ]
     },
     "execution_count": 21,
     "metadata": {},
     "output_type": "execute_result"
    }
   ],
   "source": [
    "len(products)"
   ]
  },
  {
   "cell_type": "code",
   "execution_count": 29,
   "metadata": {},
   "outputs": [
    {
     "data": {
      "text/plain": [
       "3"
      ]
     },
     "execution_count": 29,
     "metadata": {},
     "output_type": "execute_result"
    }
   ],
   "source": [
    "if True:\n",
    "    print(\"something\")"
   ]
  },
  {
   "cell_type": "code",
   "execution_count": null,
   "metadata": {},
   "outputs": [],
   "source": []
  },
  {
   "cell_type": "code",
   "execution_count": null,
   "metadata": {},
   "outputs": [],
   "source": [
    "result = []"
   ]
  },
  {
   "cell_type": "code",
   "execution_count": 28,
   "metadata": {},
   "outputs": [
    {
     "name": "stdout",
     "output_type": "stream",
     "text": [
      "https://n2.sdlcdn.com/imgs/c/2/9/230X258_sharpened/Apple-iPhone-7-32GB-Black-SDL820775791-1-93e75.jpg\n",
      "Apple iPhone 7 ( 32GB , 2 GB ) Black\n",
      "Rs.  21,747\n",
      "https://n4.sdlcdn.com/imgs/i/v/g/230X258_sharpened/IPHONE-7-PLUS-iPhone-7-SDL719153509-1-b8a73.jpeg\n",
      "IPHONE 7 PLUS iPhone 7 Plus ( 32GB , 3 GB ) Gold\n",
      "Rs.  49,899\n",
      "https://n4.sdlcdn.com/imgs/d/p/x/230X258_sharpened/Apple-iPhone-6s-32GB-Gold-SDL777465166-1-883ac.jpg\n",
      "Apple iPhone 6s ( 32GB , 2 GB ) Gold\n",
      "Rs.  27,429\n",
      "https://n3.sdlcdn.com/imgs/d/p/x/230X258_sharpened/Apple-iPhone-6s-32GB-Space-SDL744303941-1-35c0c.jpg\n",
      "Apple iPhone 6s ( 32GB , 2 GB ) Space Grey\n",
      "Rs.  27,429\n",
      "https://n1.sdlcdn.com/imgs/i/d/c/230X258_sharpened/iPhone-7-Soft-Silicon-Cases-SDL846892859-1-98197.jpg\n",
      "iPhone 7 Soft Silicon Cases O4U - Red Plain Back Cover\n",
      "Rs.  299\n",
      "https://n1.sdlcdn.com/imgs/d/p/x/230X258_sharpened/Apple-iPhone-6s-32GB-Silver-SDL770488775-1-4409b.jpg\n",
      "Apple iPhone 6s ( 32GB , 2 GB ) Silver\n",
      "Rs.  27,019\n",
      "https://n4.sdlcdn.com/imgs/i/s/x/230X258_sharpened/IPHONE-8-PLUS-iPhone-8-SDL955008622-1-e0d3d.jpeg\n",
      "IPHONE 8 PLUS iPhone 8 Plus ( 256GB , 3 GB ) Red\n",
      "Rs.  91,109\n",
      "https://n4.sdlcdn.com/imgs/a/8/9/230X258_sharpened/iPhone-6s-64GB-SDL772289648-1-57763.jpg\n",
      "Apple iphone 6s ( 64GB , 2 GB ) Gold\n",
      "Rs.  22,000\n",
      "https://n2.sdlcdn.com/imgs/i/1/7/230X258_sharpened/Apple-iPhone-11-Shock-Proof-SDL419847916-1-b8160.jpg\n",
      "Apple iPhone 11 Shock Proof Case Mobilive - Black\n",
      "Rs.  359\n",
      "https://n4.sdlcdn.com/imgs/d/p/x/230X258_sharpened/Apple-iPhone-6s-32GB-Rose-SDL781162450-1-1a57e.jpg\n",
      "Apple iPhone 6s ( 32GB , 2 GB ) Rose Gold\n",
      "Rs.  23,000\n",
      "https://n1.sdlcdn.com/imgs/i/n/c/230X258_sharpened/iPhone-7-128GB-128GB-2-SDL133035640-1-f91c7.jpg\n",
      "iPhone 7 128GB ( 128GB , 2 GB ) Black\n",
      "Rs.  45,000\n",
      "https://n3.sdlcdn.com/imgs/c/2/9/230X258_sharpened/Apple-iPhone-7-32GB-Gold-SDL835665783-1-9ae14.jpg\n",
      "Apple iPhone 7 ( 32GB , 2 GB ) Gold\n",
      "Rs.  39,899\n",
      "https://n4.sdlcdn.com/imgs/i/w/4/230X258_sharpened/IPHONE-7-PLUS-iPhone-7-SDL224270756-1-25c60.jpeg\n",
      "IPHONE 7 PLUS iPhone 7 Plus ( 32GB , 3 GB ) Black\n",
      "Rs.  49,899\n",
      "https://n3.sdlcdn.com/imgs/i/z/r/230X258_sharpened/Apple-iPhone-7-Hybrid-Covers-SDL108483615-1-88eda.jpg\n",
      "Apple iPhone 7 Hybrid Covers Hopsack - Black\n",
      "Rs.  198\n",
      "https://n3.sdlcdn.com/imgs/c/2/9/230X258_sharpened/Apple-iPhone-7-32GB-Rose-SDL842963556-1-bf1ed.jpg\n",
      "Apple iPhone 7 ( 32GB , 2 GB ) Rose Gold\n",
      "Rs.  39,439\n",
      "https://n3.sdlcdn.com/imgs/i/z/7/230X258_sharpened/Apple-iPhone-11-Pro-Plain-SDL838462031-1-a11ed.jpg\n",
      "Apple iPhone 11 Pro Plain Cases B.kcreationsz - Black\n",
      "Rs.  250\n",
      "https://n2.sdlcdn.com/imgs/i/m/w/230X258_sharpened/Apple-iPhone-6S-Marble-O4U-SDL580368936-1-a3ed3.jpg\n",
      "Apple iPhone 6S Marble O4U - Blue Marble Case\n",
      "Rs.  499\n",
      "https://n4.sdlcdn.com/imgs/i/n/1/230X258_sharpened/Apple-iPhone-7-Plus-Soft-SDL563066027-1-d522b.jpg\n",
      "Apple iPhone 7 Plus Soft Silicon Cases Wow Imagine - Black\n",
      "Rs.  198\n",
      "https://n1.sdlcdn.com/imgs/i/d/c/230X258_sharpened/iPhone-7-Soft-Silicon-Cases-SDL847263661-1-ff64b.jpg\n",
      "iPhone 7 Soft Silicon Cases O4U - Green Plain Back Cover\n",
      "Rs.  299\n",
      "https://n2.sdlcdn.com/imgs/g/2/i/230X258_sharpened/Apple-iPhone-6-Hybrid-Covers-SDL467933395-1-fc64c.jpg\n",
      "Apple iPhone 6 Hybrid Covers Wow Imagine - Black\n",
      "Rs.  399\n"
     ]
    }
   ],
   "source": [
    "for product in products:\n",
    "    p = {}\n",
    "    img = product.find('img')\n",
    "    if 'src' in img.attrs:\n",
    "        p['img'] = img.attrs['src']\n",
    "    else:\n",
    "        p['img'] = img.attrs['data-src']\n",
    "    \n",
    "    title = product.find('p', attrs={\"class\": \"product-title\"})\n",
    "    p['title'] = title.text\n",
    "    print(title.text)\n",
    "    \n",
    "    price = product.find('span', attrs={\"class\": \"product-price\"})\n",
    "    p['price'] = price.text\n",
    "    print(price.text)\n",
    "    \n",
    "    result.append(p)"
   ]
  },
  {
   "cell_type": "code",
   "execution_count": 30,
   "metadata": {},
   "outputs": [],
   "source": [
    "names = [\"jatin\", \"bipin\", \"rahul\"]"
   ]
  },
  {
   "cell_type": "code",
   "execution_count": 34,
   "metadata": {},
   "outputs": [
    {
     "name": "stdout",
     "output_type": "stream",
     "text": [
      "0 => jatin\n",
      "1 => bipin\n",
      "2 => rahul\n"
     ]
    }
   ],
   "source": [
    "for i, name in enumerate(names):\n",
    "    print(i, \"=>\", name)"
   ]
  },
  {
   "cell_type": "code",
   "execution_count": null,
   "metadata": {},
   "outputs": [],
   "source": []
  },
  {
   "cell_type": "code",
   "execution_count": null,
   "metadata": {},
   "outputs": [],
   "source": []
  },
  {
   "cell_type": "code",
   "execution_count": null,
   "metadata": {},
   "outputs": [],
   "source": []
  },
  {
   "cell_type": "code",
   "execution_count": null,
   "metadata": {},
   "outputs": [],
   "source": []
  },
  {
   "cell_type": "code",
   "execution_count": null,
   "metadata": {},
   "outputs": [],
   "source": []
  },
  {
   "cell_type": "code",
   "execution_count": null,
   "metadata": {},
   "outputs": [],
   "source": []
  }
 ],
 "metadata": {
  "kernelspec": {
   "display_name": "Python 3",
   "language": "python",
   "name": "python3"
  },
  "language_info": {
   "codemirror_mode": {
    "name": "ipython",
    "version": 3
   },
   "file_extension": ".py",
   "mimetype": "text/x-python",
   "name": "python",
   "nbconvert_exporter": "python",
   "pygments_lexer": "ipython3",
   "version": "3.7.0"
  }
 },
 "nbformat": 4,
 "nbformat_minor": 2
}
