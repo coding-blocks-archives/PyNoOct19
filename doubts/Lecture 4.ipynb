{
 "cells": [
  {
   "cell_type": "code",
   "execution_count": 3,
   "metadata": {},
   "outputs": [],
   "source": [
    "def lastUpper(s, i = 0):\n",
    "    # PytHOn\n",
    "    # Python\n",
    "    # python\n",
    "    # O\n",
    "    \n",
    "    if i == len(s):\n",
    "        return ''\n",
    "    \n",
    "    x = lastUpper(s, i+1)\n",
    "    if x:\n",
    "        return x\n",
    "    elif s[i].isupper():\n",
    "        return s[i]\n",
    "    else:\n",
    "        return ''"
   ]
  },
  {
   "cell_type": "code",
   "execution_count": 4,
   "metadata": {},
   "outputs": [
    {
     "data": {
      "text/plain": [
       "'O'"
      ]
     },
     "execution_count": 4,
     "metadata": {},
     "output_type": "execute_result"
    }
   ],
   "source": [
    "lastUpper('PytHOn')"
   ]
  },
  {
   "cell_type": "code",
   "execution_count": null,
   "metadata": {},
   "outputs": [],
   "source": []
  },
  {
   "cell_type": "code",
   "execution_count": 5,
   "metadata": {},
   "outputs": [
    {
     "data": {
      "text/plain": [
       "{'__name__': '__main__',\n",
       " '__doc__': 'Automatically created module for IPython interactive environment',\n",
       " '__package__': None,\n",
       " '__loader__': None,\n",
       " '__spec__': None,\n",
       " '__builtin__': <module 'builtins' (built-in)>,\n",
       " '__builtins__': <module 'builtins' (built-in)>,\n",
       " '_ih': ['',\n",
       "  \"def lastUpper(s, i = 0):\\n    # PytHOn\\n    # Python\\n    # python\\n    # O\\n    \\n    if not s:\\n        return ''\\n    \\n    x = lastUpper(s, i+1)\\n    if x:\\n        return x\\n    elif s[i].isupper():\\n        return s[i]\\n    else:\\n        return ''\",\n",
       "  \"lastUpper('PytHOn')\",\n",
       "  \"def lastUpper(s, i = 0):\\n    # PytHOn\\n    # Python\\n    # python\\n    # O\\n    \\n    if i == len(s):\\n        return ''\\n    \\n    x = lastUpper(s, i+1)\\n    if x:\\n        return x\\n    elif s[i].isupper():\\n        return s[i]\\n    else:\\n        return ''\",\n",
       "  \"lastUpper('PytHOn')\",\n",
       "  'globals()'],\n",
       " '_oh': {4: 'O'},\n",
       " '_dh': ['/Users/jatinkatyal/Desktop/classes/PythonOctNoida2019/doubts'],\n",
       " 'In': ['',\n",
       "  \"def lastUpper(s, i = 0):\\n    # PytHOn\\n    # Python\\n    # python\\n    # O\\n    \\n    if not s:\\n        return ''\\n    \\n    x = lastUpper(s, i+1)\\n    if x:\\n        return x\\n    elif s[i].isupper():\\n        return s[i]\\n    else:\\n        return ''\",\n",
       "  \"lastUpper('PytHOn')\",\n",
       "  \"def lastUpper(s, i = 0):\\n    # PytHOn\\n    # Python\\n    # python\\n    # O\\n    \\n    if i == len(s):\\n        return ''\\n    \\n    x = lastUpper(s, i+1)\\n    if x:\\n        return x\\n    elif s[i].isupper():\\n        return s[i]\\n    else:\\n        return ''\",\n",
       "  \"lastUpper('PytHOn')\",\n",
       "  'globals()'],\n",
       " 'Out': {4: 'O'},\n",
       " 'get_ipython': <bound method InteractiveShell.get_ipython of <ipykernel.zmqshell.ZMQInteractiveShell object at 0x108ffc320>>,\n",
       " 'exit': <IPython.core.autocall.ZMQExitAutocall at 0x10942ecf8>,\n",
       " 'quit': <IPython.core.autocall.ZMQExitAutocall at 0x10942ecf8>,\n",
       " '_': 'O',\n",
       " '__': '',\n",
       " '___': '',\n",
       " '_i': \"lastUpper('PytHOn')\",\n",
       " '_ii': \"def lastUpper(s, i = 0):\\n    # PytHOn\\n    # Python\\n    # python\\n    # O\\n    \\n    if i == len(s):\\n        return ''\\n    \\n    x = lastUpper(s, i+1)\\n    if x:\\n        return x\\n    elif s[i].isupper():\\n        return s[i]\\n    else:\\n        return ''\",\n",
       " '_iii': \"lastUpper('PytHOn')\",\n",
       " '_i1': \"def lastUpper(s, i = 0):\\n    # PytHOn\\n    # Python\\n    # python\\n    # O\\n    \\n    if not s:\\n        return ''\\n    \\n    x = lastUpper(s, i+1)\\n    if x:\\n        return x\\n    elif s[i].isupper():\\n        return s[i]\\n    else:\\n        return ''\",\n",
       " 'lastUpper': <function __main__.lastUpper(s, i=0)>,\n",
       " '_i2': \"lastUpper('PytHOn')\",\n",
       " '_i3': \"def lastUpper(s, i = 0):\\n    # PytHOn\\n    # Python\\n    # python\\n    # O\\n    \\n    if i == len(s):\\n        return ''\\n    \\n    x = lastUpper(s, i+1)\\n    if x:\\n        return x\\n    elif s[i].isupper():\\n        return s[i]\\n    else:\\n        return ''\",\n",
       " '_i4': \"lastUpper('PytHOn')\",\n",
       " '_4': 'O',\n",
       " '_i5': 'globals()'}"
      ]
     },
     "execution_count": 5,
     "metadata": {},
     "output_type": "execute_result"
    }
   ],
   "source": [
    "globals()"
   ]
  },
  {
   "cell_type": "code",
   "execution_count": 6,
   "metadata": {},
   "outputs": [],
   "source": [
    "def func():\n",
    "    a = 10\n",
    "    def x():\n",
    "        b = 20\n",
    "        print(locals())\n",
    "    x()\n",
    "    print(locals())"
   ]
  },
  {
   "cell_type": "code",
   "execution_count": 7,
   "metadata": {},
   "outputs": [
    {
     "name": "stdout",
     "output_type": "stream",
     "text": [
      "{'b': 20}\n",
      "{'a': 10, 'x': <function func.<locals>.x at 0x1097e8048>}\n"
     ]
    }
   ],
   "source": [
    "func()"
   ]
  },
  {
   "cell_type": "code",
   "execution_count": 24,
   "metadata": {},
   "outputs": [
    {
     "ename": "SyntaxError",
     "evalue": "name 'z' is assigned to before global declaration (<ipython-input-24-597fecddbe34>, line 8)",
     "output_type": "error",
     "traceback": [
      "\u001b[0;36m  File \u001b[0;32m\"<ipython-input-24-597fecddbe34>\"\u001b[0;36m, line \u001b[0;32m8\u001b[0m\n\u001b[0;31mSyntaxError\u001b[0m\u001b[0;31m:\u001b[0m name 'z' is assigned to before global declaration\n"
     ]
    }
   ],
   "source": [
    "a = 10\n",
    "z = 30\n",
    "def x():\n",
    "    z = 20\n",
    "    global z"
   ]
  },
  {
   "cell_type": "code",
   "execution_count": 33,
   "metadata": {},
   "outputs": [],
   "source": [
    "def show(a, b, c):\n",
    "    pass"
   ]
  },
  {
   "cell_type": "code",
   "execution_count": 34,
   "metadata": {},
   "outputs": [
    {
     "name": "stdout",
     "output_type": "stream",
     "text": [
      "None\n"
     ]
    }
   ],
   "source": [
    "print(show(1, 2, 3))"
   ]
  },
  {
   "cell_type": "code",
   "execution_count": null,
   "metadata": {},
   "outputs": [],
   "source": []
  },
  {
   "cell_type": "code",
   "execution_count": 29,
   "metadata": {},
   "outputs": [],
   "source": [
    "show(1, c = 20, b = 20)"
   ]
  },
  {
   "cell_type": "code",
   "execution_count": 22,
   "metadata": {},
   "outputs": [
    {
     "name": "stdout",
     "output_type": "stream",
     "text": [
      "10\n",
      "30\n",
      "20\n"
     ]
    }
   ],
   "source": [
    "x()\n",
    "print(z)"
   ]
  },
  {
   "cell_type": "code",
   "execution_count": 38,
   "metadata": {},
   "outputs": [],
   "source": [
    "def square(x):\n",
    "    return x**2"
   ]
  },
  {
   "cell_type": "code",
   "execution_count": 39,
   "metadata": {},
   "outputs": [],
   "source": [
    "def cube(x):\n",
    "    return x**3"
   ]
  },
  {
   "cell_type": "code",
   "execution_count": 48,
   "metadata": {},
   "outputs": [],
   "source": [
    "def powGen(n):\n",
    "    def p(x):\n",
    "        return x**n\n",
    "    return p"
   ]
  },
  {
   "cell_type": "code",
   "execution_count": 42,
   "metadata": {},
   "outputs": [],
   "source": [
    "square = powGen(2)"
   ]
  },
  {
   "cell_type": "code",
   "execution_count": 49,
   "metadata": {},
   "outputs": [
    {
     "data": {
      "text/plain": [
       "16"
      ]
     },
     "execution_count": 49,
     "metadata": {},
     "output_type": "execute_result"
    }
   ],
   "source": [
    "powGen(2)(4)"
   ]
  },
  {
   "cell_type": "code",
   "execution_count": 45,
   "metadata": {},
   "outputs": [
    {
     "data": {
      "text/plain": [
       "16"
      ]
     },
     "execution_count": 45,
     "metadata": {},
     "output_type": "execute_result"
    }
   ],
   "source": [
    "square(4)"
   ]
  },
  {
   "cell_type": "code",
   "execution_count": 44,
   "metadata": {},
   "outputs": [],
   "source": [
    "del powGen"
   ]
  },
  {
   "cell_type": "code",
   "execution_count": 35,
   "metadata": {},
   "outputs": [],
   "source": [
    "def a():\n",
    "    def x():\n",
    "        print(\"hello\")\n",
    "    return x"
   ]
  },
  {
   "cell_type": "code",
   "execution_count": 36,
   "metadata": {},
   "outputs": [],
   "source": [
    "b = a()"
   ]
  },
  {
   "cell_type": "code",
   "execution_count": 37,
   "metadata": {},
   "outputs": [
    {
     "name": "stdout",
     "output_type": "stream",
     "text": [
      "hello\n"
     ]
    }
   ],
   "source": [
    "b()"
   ]
  },
  {
   "cell_type": "code",
   "execution_count": null,
   "metadata": {},
   "outputs": [],
   "source": []
  },
  {
   "cell_type": "code",
   "execution_count": null,
   "metadata": {},
   "outputs": [],
   "source": []
  },
  {
   "cell_type": "code",
   "execution_count": null,
   "metadata": {},
   "outputs": [],
   "source": []
  },
  {
   "cell_type": "code",
   "execution_count": null,
   "metadata": {},
   "outputs": [],
   "source": []
  },
  {
   "cell_type": "code",
   "execution_count": null,
   "metadata": {},
   "outputs": [],
   "source": []
  }
 ],
 "metadata": {
  "kernelspec": {
   "display_name": "Python 3",
   "language": "python",
   "name": "python3"
  },
  "language_info": {
   "codemirror_mode": {
    "name": "ipython",
    "version": 3
   },
   "file_extension": ".py",
   "mimetype": "text/x-python",
   "name": "python",
   "nbconvert_exporter": "python",
   "pygments_lexer": "ipython3",
   "version": "3.7.0"
  }
 },
 "nbformat": 4,
 "nbformat_minor": 2
}
